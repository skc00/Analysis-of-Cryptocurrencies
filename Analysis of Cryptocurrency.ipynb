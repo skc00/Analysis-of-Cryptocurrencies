{
 "cells": [
  {
   "cell_type": "code",
   "execution_count": 1,
   "metadata": {
    "collapsed": true
   },
   "outputs": [],
   "source": [
    "#import libraries\n",
    "import pandas as pd\n",
    "import numpy as np\n",
    "import datetime as dt"
   ]
  },
  {
   "cell_type": "code",
   "execution_count": 2,
   "metadata": {
    "collapsed": true
   },
   "outputs": [],
   "source": [
    "\n",
    "#df = pd.read_csv(\"Data/allcrypto.csv\",dtype='object') #read in the csv file\n",
    "#df = pd.read_csv(\"Data/allcrypto.csv\")\n",
    "df = pd.read_csv(\"Data/allcrypto.csv\",low_memory=False,parse_dates=True)"
   ]
  },
  {
   "cell_type": "code",
   "execution_count": 3,
   "metadata": {},
   "outputs": [
    {
     "data": {
      "text/html": [
       "<div>\n",
       "<style>\n",
       "    .dataframe thead tr:only-child th {\n",
       "        text-align: right;\n",
       "    }\n",
       "\n",
       "    .dataframe thead th {\n",
       "        text-align: left;\n",
       "    }\n",
       "\n",
       "    .dataframe tbody tr th {\n",
       "        vertical-align: top;\n",
       "    }\n",
       "</style>\n",
       "<table border=\"1\" class=\"dataframe\">\n",
       "  <thead>\n",
       "    <tr style=\"text-align: right;\">\n",
       "      <th></th>\n",
       "      <th>slug</th>\n",
       "      <th>symbol</th>\n",
       "      <th>name</th>\n",
       "      <th>date</th>\n",
       "      <th>ranknow</th>\n",
       "      <th>open</th>\n",
       "      <th>high</th>\n",
       "      <th>low</th>\n",
       "      <th>close</th>\n",
       "      <th>volume</th>\n",
       "      <th>market</th>\n",
       "      <th>close_ratio</th>\n",
       "      <th>spread</th>\n",
       "    </tr>\n",
       "  </thead>\n",
       "  <tbody>\n",
       "    <tr>\n",
       "      <th>0</th>\n",
       "      <td>bitcoin</td>\n",
       "      <td>BTC</td>\n",
       "      <td>Bitcoin</td>\n",
       "      <td>4/28/2013</td>\n",
       "      <td>1</td>\n",
       "      <td>135.30</td>\n",
       "      <td>135.98</td>\n",
       "      <td>132.10</td>\n",
       "      <td>134.21</td>\n",
       "      <td>0</td>\n",
       "      <td>1.500520e+09</td>\n",
       "      <td>0.5438</td>\n",
       "      <td>3.88</td>\n",
       "    </tr>\n",
       "    <tr>\n",
       "      <th>1</th>\n",
       "      <td>bitcoin</td>\n",
       "      <td>BTC</td>\n",
       "      <td>Bitcoin</td>\n",
       "      <td>4/29/2013</td>\n",
       "      <td>1</td>\n",
       "      <td>134.44</td>\n",
       "      <td>147.49</td>\n",
       "      <td>134.00</td>\n",
       "      <td>144.54</td>\n",
       "      <td>0</td>\n",
       "      <td>1.491160e+09</td>\n",
       "      <td>0.7813</td>\n",
       "      <td>13.49</td>\n",
       "    </tr>\n",
       "    <tr>\n",
       "      <th>2</th>\n",
       "      <td>bitcoin</td>\n",
       "      <td>BTC</td>\n",
       "      <td>Bitcoin</td>\n",
       "      <td>4/30/2013</td>\n",
       "      <td>1</td>\n",
       "      <td>144.00</td>\n",
       "      <td>146.93</td>\n",
       "      <td>134.05</td>\n",
       "      <td>139.00</td>\n",
       "      <td>0</td>\n",
       "      <td>1.597780e+09</td>\n",
       "      <td>0.3843</td>\n",
       "      <td>12.88</td>\n",
       "    </tr>\n",
       "    <tr>\n",
       "      <th>3</th>\n",
       "      <td>bitcoin</td>\n",
       "      <td>BTC</td>\n",
       "      <td>Bitcoin</td>\n",
       "      <td>5/1/2013</td>\n",
       "      <td>1</td>\n",
       "      <td>139.00</td>\n",
       "      <td>139.89</td>\n",
       "      <td>107.72</td>\n",
       "      <td>116.99</td>\n",
       "      <td>0</td>\n",
       "      <td>1.542820e+09</td>\n",
       "      <td>0.2882</td>\n",
       "      <td>32.17</td>\n",
       "    </tr>\n",
       "    <tr>\n",
       "      <th>4</th>\n",
       "      <td>bitcoin</td>\n",
       "      <td>BTC</td>\n",
       "      <td>Bitcoin</td>\n",
       "      <td>5/2/2013</td>\n",
       "      <td>1</td>\n",
       "      <td>116.38</td>\n",
       "      <td>125.60</td>\n",
       "      <td>92.28</td>\n",
       "      <td>105.21</td>\n",
       "      <td>0</td>\n",
       "      <td>1.292190e+09</td>\n",
       "      <td>0.3881</td>\n",
       "      <td>33.32</td>\n",
       "    </tr>\n",
       "  </tbody>\n",
       "</table>\n",
       "</div>"
      ],
      "text/plain": [
       "      slug symbol     name       date  ranknow    open    high     low  \\\n",
       "0  bitcoin    BTC  Bitcoin  4/28/2013        1  135.30  135.98  132.10   \n",
       "1  bitcoin    BTC  Bitcoin  4/29/2013        1  134.44  147.49  134.00   \n",
       "2  bitcoin    BTC  Bitcoin  4/30/2013        1  144.00  146.93  134.05   \n",
       "3  bitcoin    BTC  Bitcoin   5/1/2013        1  139.00  139.89  107.72   \n",
       "4  bitcoin    BTC  Bitcoin   5/2/2013        1  116.38  125.60   92.28   \n",
       "\n",
       "    close  volume        market close_ratio  spread  \n",
       "0  134.21       0  1.500520e+09      0.5438    3.88  \n",
       "1  144.54       0  1.491160e+09      0.7813   13.49  \n",
       "2  139.00       0  1.597780e+09      0.3843   12.88  \n",
       "3  116.99       0  1.542820e+09      0.2882   32.17  \n",
       "4  105.21       0  1.292190e+09      0.3881   33.32  "
      ]
     },
     "execution_count": 3,
     "metadata": {},
     "output_type": "execute_result"
    }
   ],
   "source": [
    "df.head()"
   ]
  },
  {
   "cell_type": "code",
   "execution_count": 4,
   "metadata": {},
   "outputs": [
    {
     "data": {
      "text/html": [
       "<div>\n",
       "<style>\n",
       "    .dataframe thead tr:only-child th {\n",
       "        text-align: right;\n",
       "    }\n",
       "\n",
       "    .dataframe thead th {\n",
       "        text-align: left;\n",
       "    }\n",
       "\n",
       "    .dataframe tbody tr th {\n",
       "        vertical-align: top;\n",
       "    }\n",
       "</style>\n",
       "<table border=\"1\" class=\"dataframe\">\n",
       "  <thead>\n",
       "    <tr style=\"text-align: right;\">\n",
       "      <th></th>\n",
       "      <th>slug</th>\n",
       "      <th>symbol</th>\n",
       "      <th>name</th>\n",
       "      <th>date</th>\n",
       "      <th>ranknow</th>\n",
       "      <th>open</th>\n",
       "      <th>high</th>\n",
       "      <th>low</th>\n",
       "      <th>close</th>\n",
       "      <th>volume</th>\n",
       "      <th>market</th>\n",
       "      <th>close_ratio</th>\n",
       "      <th>spread</th>\n",
       "    </tr>\n",
       "  </thead>\n",
       "  <tbody>\n",
       "    <tr>\n",
       "      <th>659368</th>\n",
       "      <td>entcash</td>\n",
       "      <td>ENT</td>\n",
       "      <td>ENTCash</td>\n",
       "      <td>1/6/2018</td>\n",
       "      <td>1408</td>\n",
       "      <td>0.174183</td>\n",
       "      <td>0.194897</td>\n",
       "      <td>0.150645</td>\n",
       "      <td>0.163826</td>\n",
       "      <td>3345710</td>\n",
       "      <td>0.0</td>\n",
       "      <td>0.2979</td>\n",
       "      <td>0.04</td>\n",
       "    </tr>\n",
       "    <tr>\n",
       "      <th>659369</th>\n",
       "      <td>entcash</td>\n",
       "      <td>ENT</td>\n",
       "      <td>ENTCash</td>\n",
       "      <td>1/7/2018</td>\n",
       "      <td>1408</td>\n",
       "      <td>0.164768</td>\n",
       "      <td>0.181707</td>\n",
       "      <td>0.163826</td>\n",
       "      <td>0.169468</td>\n",
       "      <td>2164900</td>\n",
       "      <td>0.0</td>\n",
       "      <td>0.3155</td>\n",
       "      <td>0.02</td>\n",
       "    </tr>\n",
       "    <tr>\n",
       "      <th>659370</th>\n",
       "      <td>entcash</td>\n",
       "      <td>ENT</td>\n",
       "      <td>ENTCash</td>\n",
       "      <td>1/8/2018</td>\n",
       "      <td>1408</td>\n",
       "      <td>0.174209</td>\n",
       "      <td>0.174209</td>\n",
       "      <td>0.144273</td>\n",
       "      <td>0.161158</td>\n",
       "      <td>1457280</td>\n",
       "      <td>0.0</td>\n",
       "      <td>0.564</td>\n",
       "      <td>0.03</td>\n",
       "    </tr>\n",
       "    <tr>\n",
       "      <th>659371</th>\n",
       "      <td>entcash</td>\n",
       "      <td>ENT</td>\n",
       "      <td>ENTCash</td>\n",
       "      <td>1/9/2018</td>\n",
       "      <td>1408</td>\n",
       "      <td>0.162810</td>\n",
       "      <td>0.177575</td>\n",
       "      <td>0.147691</td>\n",
       "      <td>0.156104</td>\n",
       "      <td>3480830</td>\n",
       "      <td>0.0</td>\n",
       "      <td>0.2815</td>\n",
       "      <td>0.03</td>\n",
       "    </tr>\n",
       "    <tr>\n",
       "      <th>659372</th>\n",
       "      <td>entcash</td>\n",
       "      <td>ENT</td>\n",
       "      <td>ENTCash</td>\n",
       "      <td>1/10/2018</td>\n",
       "      <td>1408</td>\n",
       "      <td>0.157429</td>\n",
       "      <td>0.163051</td>\n",
       "      <td>0.148058</td>\n",
       "      <td>0.150869</td>\n",
       "      <td>3718410</td>\n",
       "      <td>0.0</td>\n",
       "      <td>0.1875</td>\n",
       "      <td>0.01</td>\n",
       "    </tr>\n",
       "  </tbody>\n",
       "</table>\n",
       "</div>"
      ],
      "text/plain": [
       "           slug symbol     name       date  ranknow      open      high  \\\n",
       "659368  entcash    ENT  ENTCash   1/6/2018     1408  0.174183  0.194897   \n",
       "659369  entcash    ENT  ENTCash   1/7/2018     1408  0.164768  0.181707   \n",
       "659370  entcash    ENT  ENTCash   1/8/2018     1408  0.174209  0.174209   \n",
       "659371  entcash    ENT  ENTCash   1/9/2018     1408  0.162810  0.177575   \n",
       "659372  entcash    ENT  ENTCash  1/10/2018     1408  0.157429  0.163051   \n",
       "\n",
       "             low     close   volume  market close_ratio  spread  \n",
       "659368  0.150645  0.163826  3345710     0.0      0.2979    0.04  \n",
       "659369  0.163826  0.169468  2164900     0.0      0.3155    0.02  \n",
       "659370  0.144273  0.161158  1457280     0.0       0.564    0.03  \n",
       "659371  0.147691  0.156104  3480830     0.0      0.2815    0.03  \n",
       "659372  0.148058  0.150869  3718410     0.0      0.1875    0.01  "
      ]
     },
     "execution_count": 4,
     "metadata": {},
     "output_type": "execute_result"
    }
   ],
   "source": [
    "df.tail()"
   ]
  },
  {
   "cell_type": "code",
   "execution_count": 5,
   "metadata": {},
   "outputs": [
    {
     "name": "stdout",
     "output_type": "stream",
     "text": [
      "<class 'pandas.core.frame.DataFrame'>\n",
      "RangeIndex: 659373 entries, 0 to 659372\n",
      "Data columns (total 13 columns):\n",
      "slug           659373 non-null object\n",
      "symbol         659373 non-null object\n",
      "name           659373 non-null object\n",
      "date           659373 non-null object\n",
      "ranknow        659373 non-null int64\n",
      "open           659373 non-null float64\n",
      "high           659373 non-null float64\n",
      "low            659373 non-null float64\n",
      "close          659373 non-null float64\n",
      "volume         659373 non-null int64\n",
      "market         659373 non-null float64\n",
      "close_ratio    644847 non-null object\n",
      "spread         659373 non-null float64\n",
      "dtypes: float64(6), int64(2), object(5)\n",
      "memory usage: 65.4+ MB\n"
     ]
    }
   ],
   "source": [
    "df.info()"
   ]
  },
  {
   "cell_type": "code",
   "execution_count": 6,
   "metadata": {
    "collapsed": true
   },
   "outputs": [],
   "source": [
    "# I don't need symbol because I have name already,so I will drop it\n",
    "# In this analysis, it's important to work with date as date objects, so we need to transform it.\n",
    "# we see from df.info, close_ratio column has either NA'S or missing values.\n",
    "df1 = df.drop(['symbol'], axis=1) # axis=1 denotes that we are refering to column,not a row.\n",
    "df1['date'] = pd.to_datetime(df1['date'], format= '%m/%d/%Y')\n",
    "df1['close_ratio']=pd.to_numeric(df1['close_ratio'],errors='coerce')# errors=coerce puts invalid parsing to NAN."
   ]
  },
  {
   "cell_type": "code",
   "execution_count": 7,
   "metadata": {},
   "outputs": [
    {
     "name": "stdout",
     "output_type": "stream",
     "text": [
      "<class 'pandas.core.frame.DataFrame'>\n",
      "RangeIndex: 659373 entries, 0 to 659372\n",
      "Data columns (total 12 columns):\n",
      "slug           659373 non-null object\n",
      "name           659373 non-null object\n",
      "date           659373 non-null datetime64[ns]\n",
      "ranknow        659373 non-null int64\n",
      "open           659373 non-null float64\n",
      "high           659373 non-null float64\n",
      "low            659373 non-null float64\n",
      "close          659373 non-null float64\n",
      "volume         659373 non-null int64\n",
      "market         659373 non-null float64\n",
      "close_ratio    644844 non-null float64\n",
      "spread         659373 non-null float64\n",
      "dtypes: datetime64[ns](1), float64(7), int64(2), object(2)\n",
      "memory usage: 60.4+ MB\n"
     ]
    }
   ],
   "source": [
    "df1.info()"
   ]
  },
  {
   "cell_type": "code",
   "execution_count": 8,
   "metadata": {},
   "outputs": [
    {
     "data": {
      "text/plain": [
       "ranknow          666.000000\n",
       "open               0.006680\n",
       "high               0.007732\n",
       "low                0.005828\n",
       "close              0.006700\n",
       "volume           340.000000\n",
       "market         75216.000000\n",
       "close_ratio        0.447850\n",
       "spread             0.000000\n",
       "dtype: float64"
      ]
     },
     "execution_count": 8,
     "metadata": {},
     "output_type": "execute_result"
    }
   ],
   "source": [
    "df1.median()#only calulates for median data"
   ]
  },
  {
   "cell_type": "code",
   "execution_count": 9,
   "metadata": {
    "collapsed": true
   },
   "outputs": [],
   "source": [
    "df1_imputed=df1.fillna(df1.median())"
   ]
  },
  {
   "cell_type": "code",
   "execution_count": 10,
   "metadata": {},
   "outputs": [
    {
     "name": "stdout",
     "output_type": "stream",
     "text": [
      "<class 'pandas.core.frame.DataFrame'>\n",
      "RangeIndex: 659373 entries, 0 to 659372\n",
      "Data columns (total 12 columns):\n",
      "slug           659373 non-null object\n",
      "name           659373 non-null object\n",
      "date           659373 non-null datetime64[ns]\n",
      "ranknow        659373 non-null int64\n",
      "open           659373 non-null float64\n",
      "high           659373 non-null float64\n",
      "low            659373 non-null float64\n",
      "close          659373 non-null float64\n",
      "volume         659373 non-null int64\n",
      "market         659373 non-null float64\n",
      "close_ratio    659373 non-null float64\n",
      "spread         659373 non-null float64\n",
      "dtypes: datetime64[ns](1), float64(7), int64(2), object(2)\n",
      "memory usage: 60.4+ MB\n"
     ]
    }
   ],
   "source": [
    "df1_imputed.info()"
   ]
  },
  {
   "cell_type": "code",
   "execution_count": 11,
   "metadata": {},
   "outputs": [
    {
     "data": {
      "text/html": [
       "<div>\n",
       "<style>\n",
       "    .dataframe thead tr:only-child th {\n",
       "        text-align: right;\n",
       "    }\n",
       "\n",
       "    .dataframe thead th {\n",
       "        text-align: left;\n",
       "    }\n",
       "\n",
       "    .dataframe tbody tr th {\n",
       "        vertical-align: top;\n",
       "    }\n",
       "</style>\n",
       "<table border=\"1\" class=\"dataframe\">\n",
       "  <thead>\n",
       "    <tr style=\"text-align: right;\">\n",
       "      <th></th>\n",
       "      <th>ranknow</th>\n",
       "      <th>open</th>\n",
       "      <th>high</th>\n",
       "      <th>low</th>\n",
       "      <th>close</th>\n",
       "      <th>volume</th>\n",
       "      <th>market</th>\n",
       "      <th>close_ratio</th>\n",
       "      <th>spread</th>\n",
       "    </tr>\n",
       "  </thead>\n",
       "  <tbody>\n",
       "    <tr>\n",
       "      <th>count</th>\n",
       "      <td>659373.000000</td>\n",
       "      <td>6.593730e+05</td>\n",
       "      <td>6.593730e+05</td>\n",
       "      <td>6.593730e+05</td>\n",
       "      <td>6.593730e+05</td>\n",
       "      <td>6.593730e+05</td>\n",
       "      <td>6.593730e+05</td>\n",
       "      <td>659373.000000</td>\n",
       "      <td>6.593730e+05</td>\n",
       "    </tr>\n",
       "    <tr>\n",
       "      <th>mean</th>\n",
       "      <td>664.808072</td>\n",
       "      <td>1.954633e+02</td>\n",
       "      <td>2.390818e+02</td>\n",
       "      <td>1.582942e+02</td>\n",
       "      <td>1.952336e+02</td>\n",
       "      <td>4.024155e+06</td>\n",
       "      <td>9.494453e+07</td>\n",
       "      <td>0.471751</td>\n",
       "      <td>8.078717e+01</td>\n",
       "    </tr>\n",
       "    <tr>\n",
       "      <th>std</th>\n",
       "      <td>376.857132</td>\n",
       "      <td>9.339245e+03</td>\n",
       "      <td>1.215379e+04</td>\n",
       "      <td>7.104065e+03</td>\n",
       "      <td>9.297601e+03</td>\n",
       "      <td>1.419269e+08</td>\n",
       "      <td>2.653153e+09</td>\n",
       "      <td>0.337225</td>\n",
       "      <td>6.194455e+03</td>\n",
       "    </tr>\n",
       "    <tr>\n",
       "      <th>min</th>\n",
       "      <td>1.000000</td>\n",
       "      <td>1.000000e-10</td>\n",
       "      <td>1.300000e-10</td>\n",
       "      <td>9.200000e-14</td>\n",
       "      <td>0.000000e+00</td>\n",
       "      <td>0.000000e+00</td>\n",
       "      <td>0.000000e+00</td>\n",
       "      <td>-2.000000</td>\n",
       "      <td>0.000000e+00</td>\n",
       "    </tr>\n",
       "    <tr>\n",
       "      <th>25%</th>\n",
       "      <td>362.000000</td>\n",
       "      <td>4.130000e-04</td>\n",
       "      <td>4.830000e-04</td>\n",
       "      <td>3.550000e-04</td>\n",
       "      <td>4.140000e-04</td>\n",
       "      <td>2.000000e+01</td>\n",
       "      <td>6.706000e+03</td>\n",
       "      <td>0.160800</td>\n",
       "      <td>0.000000e+00</td>\n",
       "    </tr>\n",
       "    <tr>\n",
       "      <th>50%</th>\n",
       "      <td>666.000000</td>\n",
       "      <td>6.680000e-03</td>\n",
       "      <td>7.732000e-03</td>\n",
       "      <td>5.828000e-03</td>\n",
       "      <td>6.700000e-03</td>\n",
       "      <td>3.400000e+02</td>\n",
       "      <td>7.521600e+04</td>\n",
       "      <td>0.447850</td>\n",
       "      <td>0.000000e+00</td>\n",
       "    </tr>\n",
       "    <tr>\n",
       "      <th>75%</th>\n",
       "      <td>961.000000</td>\n",
       "      <td>9.682200e-02</td>\n",
       "      <td>1.119570e-01</td>\n",
       "      <td>8.445300e-02</td>\n",
       "      <td>9.728600e-02</td>\n",
       "      <td>7.618000e+03</td>\n",
       "      <td>9.043740e+05</td>\n",
       "      <td>0.777800</td>\n",
       "      <td>2.000000e-02</td>\n",
       "    </tr>\n",
       "    <tr>\n",
       "      <th>max</th>\n",
       "      <td>1408.000000</td>\n",
       "      <td>2.298390e+06</td>\n",
       "      <td>2.926100e+06</td>\n",
       "      <td>2.030590e+06</td>\n",
       "      <td>2.300740e+06</td>\n",
       "      <td>2.384090e+10</td>\n",
       "      <td>3.260000e+11</td>\n",
       "      <td>1.000000</td>\n",
       "      <td>1.770563e+06</td>\n",
       "    </tr>\n",
       "  </tbody>\n",
       "</table>\n",
       "</div>"
      ],
      "text/plain": [
       "             ranknow          open          high           low         close  \\\n",
       "count  659373.000000  6.593730e+05  6.593730e+05  6.593730e+05  6.593730e+05   \n",
       "mean      664.808072  1.954633e+02  2.390818e+02  1.582942e+02  1.952336e+02   \n",
       "std       376.857132  9.339245e+03  1.215379e+04  7.104065e+03  9.297601e+03   \n",
       "min         1.000000  1.000000e-10  1.300000e-10  9.200000e-14  0.000000e+00   \n",
       "25%       362.000000  4.130000e-04  4.830000e-04  3.550000e-04  4.140000e-04   \n",
       "50%       666.000000  6.680000e-03  7.732000e-03  5.828000e-03  6.700000e-03   \n",
       "75%       961.000000  9.682200e-02  1.119570e-01  8.445300e-02  9.728600e-02   \n",
       "max      1408.000000  2.298390e+06  2.926100e+06  2.030590e+06  2.300740e+06   \n",
       "\n",
       "             volume        market    close_ratio        spread  \n",
       "count  6.593730e+05  6.593730e+05  659373.000000  6.593730e+05  \n",
       "mean   4.024155e+06  9.494453e+07       0.471751  8.078717e+01  \n",
       "std    1.419269e+08  2.653153e+09       0.337225  6.194455e+03  \n",
       "min    0.000000e+00  0.000000e+00      -2.000000  0.000000e+00  \n",
       "25%    2.000000e+01  6.706000e+03       0.160800  0.000000e+00  \n",
       "50%    3.400000e+02  7.521600e+04       0.447850  0.000000e+00  \n",
       "75%    7.618000e+03  9.043740e+05       0.777800  2.000000e-02  \n",
       "max    2.384090e+10  3.260000e+11       1.000000  1.770563e+06  "
      ]
     },
     "execution_count": 11,
     "metadata": {},
     "output_type": "execute_result"
    }
   ],
   "source": [
    "df1_imputed.describe()"
   ]
  },
  {
   "cell_type": "code",
   "execution_count": 12,
   "metadata": {},
   "outputs": [
    {
     "data": {
      "text/plain": [
       "count      659373\n",
       "unique       1400\n",
       "top       bitcoin\n",
       "freq         1719\n",
       "Name: slug, dtype: object"
      ]
     },
     "execution_count": 12,
     "metadata": {},
     "output_type": "execute_result"
    }
   ],
   "source": [
    "df1_imputed['slug'].describe()"
   ]
  },
  {
   "cell_type": "code",
   "execution_count": 13,
   "metadata": {
    "collapsed": true
   },
   "outputs": [],
   "source": [
    "top10_rank = [1,2,3,4,5,6,7,8,9,10]\n",
    "crypto_df = df1[df1_imputed[\"ranknow\"].isin(top10_rank)]"
   ]
  },
  {
   "cell_type": "code",
   "execution_count": 14,
   "metadata": {},
   "outputs": [
    {
     "data": {
      "text/html": [
       "<div>\n",
       "<style>\n",
       "    .dataframe thead tr:only-child th {\n",
       "        text-align: right;\n",
       "    }\n",
       "\n",
       "    .dataframe thead th {\n",
       "        text-align: left;\n",
       "    }\n",
       "\n",
       "    .dataframe tbody tr th {\n",
       "        vertical-align: top;\n",
       "    }\n",
       "</style>\n",
       "<table border=\"1\" class=\"dataframe\">\n",
       "  <thead>\n",
       "    <tr style=\"text-align: right;\">\n",
       "      <th></th>\n",
       "      <th>slug</th>\n",
       "      <th>name</th>\n",
       "      <th>date</th>\n",
       "      <th>ranknow</th>\n",
       "      <th>open</th>\n",
       "      <th>high</th>\n",
       "      <th>low</th>\n",
       "      <th>close</th>\n",
       "      <th>volume</th>\n",
       "      <th>market</th>\n",
       "      <th>close_ratio</th>\n",
       "      <th>spread</th>\n",
       "    </tr>\n",
       "  </thead>\n",
       "  <tbody>\n",
       "    <tr>\n",
       "      <th>0</th>\n",
       "      <td>bitcoin</td>\n",
       "      <td>Bitcoin</td>\n",
       "      <td>2013-04-28</td>\n",
       "      <td>1</td>\n",
       "      <td>135.30</td>\n",
       "      <td>135.98</td>\n",
       "      <td>132.10</td>\n",
       "      <td>134.21</td>\n",
       "      <td>0</td>\n",
       "      <td>1.500520e+09</td>\n",
       "      <td>0.5438</td>\n",
       "      <td>3.88</td>\n",
       "    </tr>\n",
       "    <tr>\n",
       "      <th>1</th>\n",
       "      <td>bitcoin</td>\n",
       "      <td>Bitcoin</td>\n",
       "      <td>2013-04-29</td>\n",
       "      <td>1</td>\n",
       "      <td>134.44</td>\n",
       "      <td>147.49</td>\n",
       "      <td>134.00</td>\n",
       "      <td>144.54</td>\n",
       "      <td>0</td>\n",
       "      <td>1.491160e+09</td>\n",
       "      <td>0.7813</td>\n",
       "      <td>13.49</td>\n",
       "    </tr>\n",
       "    <tr>\n",
       "      <th>2</th>\n",
       "      <td>bitcoin</td>\n",
       "      <td>Bitcoin</td>\n",
       "      <td>2013-04-30</td>\n",
       "      <td>1</td>\n",
       "      <td>144.00</td>\n",
       "      <td>146.93</td>\n",
       "      <td>134.05</td>\n",
       "      <td>139.00</td>\n",
       "      <td>0</td>\n",
       "      <td>1.597780e+09</td>\n",
       "      <td>0.3843</td>\n",
       "      <td>12.88</td>\n",
       "    </tr>\n",
       "    <tr>\n",
       "      <th>3</th>\n",
       "      <td>bitcoin</td>\n",
       "      <td>Bitcoin</td>\n",
       "      <td>2013-05-01</td>\n",
       "      <td>1</td>\n",
       "      <td>139.00</td>\n",
       "      <td>139.89</td>\n",
       "      <td>107.72</td>\n",
       "      <td>116.99</td>\n",
       "      <td>0</td>\n",
       "      <td>1.542820e+09</td>\n",
       "      <td>0.2882</td>\n",
       "      <td>32.17</td>\n",
       "    </tr>\n",
       "    <tr>\n",
       "      <th>4</th>\n",
       "      <td>bitcoin</td>\n",
       "      <td>Bitcoin</td>\n",
       "      <td>2013-05-02</td>\n",
       "      <td>1</td>\n",
       "      <td>116.38</td>\n",
       "      <td>125.60</td>\n",
       "      <td>92.28</td>\n",
       "      <td>105.21</td>\n",
       "      <td>0</td>\n",
       "      <td>1.292190e+09</td>\n",
       "      <td>0.3881</td>\n",
       "      <td>33.32</td>\n",
       "    </tr>\n",
       "  </tbody>\n",
       "</table>\n",
       "</div>"
      ],
      "text/plain": [
       "      slug     name       date  ranknow    open    high     low   close  \\\n",
       "0  bitcoin  Bitcoin 2013-04-28        1  135.30  135.98  132.10  134.21   \n",
       "1  bitcoin  Bitcoin 2013-04-29        1  134.44  147.49  134.00  144.54   \n",
       "2  bitcoin  Bitcoin 2013-04-30        1  144.00  146.93  134.05  139.00   \n",
       "3  bitcoin  Bitcoin 2013-05-01        1  139.00  139.89  107.72  116.99   \n",
       "4  bitcoin  Bitcoin 2013-05-02        1  116.38  125.60   92.28  105.21   \n",
       "\n",
       "   volume        market  close_ratio  spread  \n",
       "0       0  1.500520e+09       0.5438    3.88  \n",
       "1       0  1.491160e+09       0.7813   13.49  \n",
       "2       0  1.597780e+09       0.3843   12.88  \n",
       "3       0  1.542820e+09       0.2882   32.17  \n",
       "4       0  1.292190e+09       0.3881   33.32  "
      ]
     },
     "execution_count": 14,
     "metadata": {},
     "output_type": "execute_result"
    }
   ],
   "source": [
    "crypto_df.head()"
   ]
  },
  {
   "cell_type": "code",
   "execution_count": 15,
   "metadata": {},
   "outputs": [
    {
     "data": {
      "text/html": [
       "<div>\n",
       "<style>\n",
       "    .dataframe thead tr:only-child th {\n",
       "        text-align: right;\n",
       "    }\n",
       "\n",
       "    .dataframe thead th {\n",
       "        text-align: left;\n",
       "    }\n",
       "\n",
       "    .dataframe tbody tr th {\n",
       "        vertical-align: top;\n",
       "    }\n",
       "</style>\n",
       "<table border=\"1\" class=\"dataframe\">\n",
       "  <thead>\n",
       "    <tr style=\"text-align: right;\">\n",
       "      <th></th>\n",
       "      <th>slug</th>\n",
       "      <th>name</th>\n",
       "      <th>date</th>\n",
       "      <th>ranknow</th>\n",
       "      <th>open</th>\n",
       "      <th>high</th>\n",
       "      <th>low</th>\n",
       "      <th>close</th>\n",
       "      <th>volume</th>\n",
       "      <th>market</th>\n",
       "      <th>close_ratio</th>\n",
       "      <th>spread</th>\n",
       "    </tr>\n",
       "  </thead>\n",
       "  <tbody>\n",
       "    <tr>\n",
       "      <th>10126</th>\n",
       "      <td>dash</td>\n",
       "      <td>Dash</td>\n",
       "      <td>2018-01-06</td>\n",
       "      <td>10</td>\n",
       "      <td>1157.09</td>\n",
       "      <td>1279.47</td>\n",
       "      <td>1147.49</td>\n",
       "      <td>1265.03</td>\n",
       "      <td>215058000</td>\n",
       "      <td>9.026110e+09</td>\n",
       "      <td>0.8906</td>\n",
       "      <td>131.98</td>\n",
       "    </tr>\n",
       "    <tr>\n",
       "      <th>10127</th>\n",
       "      <td>dash</td>\n",
       "      <td>Dash</td>\n",
       "      <td>2018-01-07</td>\n",
       "      <td>10</td>\n",
       "      <td>1266.43</td>\n",
       "      <td>1394.28</td>\n",
       "      <td>1266.43</td>\n",
       "      <td>1285.43</td>\n",
       "      <td>230576000</td>\n",
       "      <td>9.881510e+09</td>\n",
       "      <td>0.1486</td>\n",
       "      <td>127.85</td>\n",
       "    </tr>\n",
       "    <tr>\n",
       "      <th>10128</th>\n",
       "      <td>dash</td>\n",
       "      <td>Dash</td>\n",
       "      <td>2018-01-08</td>\n",
       "      <td>10</td>\n",
       "      <td>1283.36</td>\n",
       "      <td>1320.28</td>\n",
       "      <td>1007.55</td>\n",
       "      <td>1087.75</td>\n",
       "      <td>215239000</td>\n",
       "      <td>1.001620e+10</td>\n",
       "      <td>0.2565</td>\n",
       "      <td>312.73</td>\n",
       "    </tr>\n",
       "    <tr>\n",
       "      <th>10129</th>\n",
       "      <td>dash</td>\n",
       "      <td>Dash</td>\n",
       "      <td>2018-01-09</td>\n",
       "      <td>10</td>\n",
       "      <td>1085.75</td>\n",
       "      <td>1134.49</td>\n",
       "      <td>1055.21</td>\n",
       "      <td>1111.86</td>\n",
       "      <td>220569000</td>\n",
       "      <td>8.476040e+09</td>\n",
       "      <td>0.7146</td>\n",
       "      <td>79.28</td>\n",
       "    </tr>\n",
       "    <tr>\n",
       "      <th>10130</th>\n",
       "      <td>dash</td>\n",
       "      <td>Dash</td>\n",
       "      <td>2018-01-10</td>\n",
       "      <td>10</td>\n",
       "      <td>1115.48</td>\n",
       "      <td>1117.33</td>\n",
       "      <td>1041.39</td>\n",
       "      <td>1106.36</td>\n",
       "      <td>231944000</td>\n",
       "      <td>8.710310e+09</td>\n",
       "      <td>0.8555</td>\n",
       "      <td>75.94</td>\n",
       "    </tr>\n",
       "  </tbody>\n",
       "</table>\n",
       "</div>"
      ],
      "text/plain": [
       "       slug  name       date  ranknow     open     high      low    close  \\\n",
       "10126  dash  Dash 2018-01-06       10  1157.09  1279.47  1147.49  1265.03   \n",
       "10127  dash  Dash 2018-01-07       10  1266.43  1394.28  1266.43  1285.43   \n",
       "10128  dash  Dash 2018-01-08       10  1283.36  1320.28  1007.55  1087.75   \n",
       "10129  dash  Dash 2018-01-09       10  1085.75  1134.49  1055.21  1111.86   \n",
       "10130  dash  Dash 2018-01-10       10  1115.48  1117.33  1041.39  1106.36   \n",
       "\n",
       "          volume        market  close_ratio  spread  \n",
       "10126  215058000  9.026110e+09       0.8906  131.98  \n",
       "10127  230576000  9.881510e+09       0.1486  127.85  \n",
       "10128  215239000  1.001620e+10       0.2565  312.73  \n",
       "10129  220569000  8.476040e+09       0.7146   79.28  \n",
       "10130  231944000  8.710310e+09       0.8555   75.94  "
      ]
     },
     "execution_count": 15,
     "metadata": {},
     "output_type": "execute_result"
    }
   ],
   "source": [
    "crypto_df.tail()"
   ]
  },
  {
   "cell_type": "code",
   "execution_count": 16,
   "metadata": {
    "collapsed": true
   },
   "outputs": [],
   "source": [
    "### Data Visualization and Attribute Relationships\n"
   ]
  },
  {
   "cell_type": "code",
   "execution_count": 17,
   "metadata": {
    "collapsed": true
   },
   "outputs": [],
   "source": [
    "import matplotlib.pyplot as plt\n",
    "import matplotlib.dates as mdates\n",
    "import warnings\n",
    "warnings.simplefilter('ignore', DeprecationWarning)\n",
    "%matplotlib inline\n",
    "import seaborn as sns\n"
   ]
  },
  {
   "cell_type": "code",
   "execution_count": 18,
   "metadata": {
    "collapsed": true
   },
   "outputs": [],
   "source": [
    "years= mdates.YearLocator()\n",
    "months= mdates.MonthLocator()\n",
    "yearsFmt= mdates.DateFormatter('%Y')\n",
    "\n"
   ]
  },
  {
   "cell_type": "code",
   "execution_count": 19,
   "metadata": {},
   "outputs": [
    {
     "data": {
      "image/png": "[encoded data removed]",
      "text/plain": [
       "<matplotlib.figure.Figure at 0x14360f50f60>"
      ]
     },
     "metadata": {},
     "output_type": "display_data"
    },
    {
     "data": {
      "image/png": "[encoded data removed]",
      "text/plain": [
       "<matplotlib.figure.Figure at 0x14362410a20>"
      ]
     },
     "metadata": {},
     "output_type": "display_data"
    }
   ],
   "source": [
    "# since Bitcoin is in no 1,lets see the trend from 2013\n",
    "Bitcoin_price = crypto_df[crypto_df['name']=='Bitcoin']\n",
    "Bitcoin_price.set_index(['date'],inplace=True)\n",
    "Bitcoin_price[['open','high','low','close']].plot(figsize=(12,6))\n",
    "plt.show()\n",
    "#we saw that the price of bitcoin increased from 2017\n",
    "Bitcoin_price17 = crypto_df[crypto_df['name']=='Bitcoin'].loc['2017':]\n",
    "Bitcoin_price17.set_index(['date'],inplace=True)\n",
    "Bitcoin_price17[['open','high','low','close']].plot(figsize=(12,6))\n",
    "plt.show()\n"
   ]
  },
  {
   "cell_type": "code",
   "execution_count": 20,
   "metadata": {},
   "outputs": [
    {
     "data": {
      "text/plain": [
       "ranknow\n",
       "1          [Bitcoin]\n",
       "2         [Ethereum]\n",
       "3           [Ripple]\n",
       "4     [Bitcoin Cash]\n",
       "5          [Cardano]\n",
       "6         [Litecoin]\n",
       "7              [NEM]\n",
       "8             [IOTA]\n",
       "9          [Stellar]\n",
       "10            [Dash]\n",
       "Name: name, dtype: object"
      ]
     },
     "execution_count": 20,
     "metadata": {},
     "output_type": "execute_result"
    }
   ],
   "source": [
    "# Try to find the top 10 crypto curriencies rank\n",
    "crypto_df[crypto_df['ranknow'] <= 10].groupby('ranknow').name.unique()"
   ]
  },
  {
   "cell_type": "code",
   "execution_count": 26,
   "metadata": {
    "collapsed": true
   },
   "outputs": [],
   "source": [
    "# know more about the top 10 coins\n",
    "Bitcoin = crypto_df[crypto_df['name']=='Bitcoin'].loc['2017':]\n",
    "Ethereum = crypto_df[crypto_df['name']=='Ethereum'].loc['2017':]\n",
    "Ripple = crypto_df[crypto_df['name']=='Ripple'].loc['2017':]\n",
    "Bitcoin_cash = crypto_df[crypto_df['name']=='Bitcoin Cash'].loc['2017':]\n",
    "Cardano = crypto_df[crypto_df['name']=='Cardano'].loc['2017':]\n",
    "Litecoin = crypto_df[crypto_df['name']=='Litecoin'].loc['2017':]\n",
    "NEM = crypto_df[crypto_df['name']=='NEM'].loc['2017':]\n",
    "IOTA = crypto_df[crypto_df['name']=='IOTA'].loc['2017':]\n",
    "Stellar = crypto_df[crypto_df['name']=='Stellar'].loc['2017':]\n",
    "Dash = crypto_df[crypto_df['name']=='Dash'].loc['2017':]\n",
    "\n"
   ]
  },
  {
   "cell_type": "code",
   "execution_count": 36,
   "metadata": {},
   "outputs": [
    {
     "ename": "TypeError",
     "evalue": "index type not supported",
     "output_type": "error",
     "traceback": [
      "\u001b[1;31m---------------------------------------------------------------------------\u001b[0m",
      "\u001b[1;31mTypeError\u001b[0m                                 Traceback (most recent call last)",
      "\u001b[1;32m<ipython-input-36-8afb1c463377>\u001b[0m in \u001b[0;36m<module>\u001b[1;34m()\u001b[0m\n\u001b[0;32m      2\u001b[0m \u001b[0mplt\u001b[0m\u001b[1;33m.\u001b[0m\u001b[0mfigure\u001b[0m\u001b[1;33m(\u001b[0m\u001b[0mfigsize\u001b[0m\u001b[1;33m=\u001b[0m\u001b[1;33m(\u001b[0m\u001b[1;36m16\u001b[0m\u001b[1;33m,\u001b[0m\u001b[1;36m8\u001b[0m\u001b[1;33m)\u001b[0m\u001b[1;33m)\u001b[0m\u001b[1;33m\u001b[0m\u001b[0m\n\u001b[0;32m      3\u001b[0m \u001b[1;33m(\u001b[0m\u001b[0mBitcoin\u001b[0m\u001b[1;33m[\u001b[0m\u001b[1;34m'close'\u001b[0m\u001b[1;33m]\u001b[0m\u001b[1;33m)\u001b[0m\u001b[1;33m.\u001b[0m\u001b[0mplot\u001b[0m\u001b[1;33m(\u001b[0m\u001b[0mcolor\u001b[0m\u001b[1;33m=\u001b[0m\u001b[1;34m'red'\u001b[0m\u001b[1;33m,\u001b[0m \u001b[0mlabel\u001b[0m\u001b[1;33m=\u001b[0m\u001b[1;34m'Bitcoin'\u001b[0m\u001b[1;33m)\u001b[0m\u001b[1;33m\u001b[0m\u001b[0m\n\u001b[1;32m----> 4\u001b[1;33m \u001b[1;33m(\u001b[0m\u001b[0mEthereum\u001b[0m\u001b[1;33m[\u001b[0m\u001b[1;34m'close'\u001b[0m\u001b[1;33m]\u001b[0m\u001b[1;33m)\u001b[0m\u001b[1;33m.\u001b[0m\u001b[0mplot\u001b[0m\u001b[1;33m(\u001b[0m\u001b[0mcolor\u001b[0m\u001b[1;33m=\u001b[0m\u001b[1;34m'green'\u001b[0m\u001b[1;33m,\u001b[0m \u001b[0mlabel\u001b[0m\u001b[1;33m=\u001b[0m\u001b[1;34m'Ethereum'\u001b[0m\u001b[1;33m)\u001b[0m\u001b[1;33m\u001b[0m\u001b[0m\n\u001b[0m\u001b[0;32m      5\u001b[0m \u001b[1;33m(\u001b[0m\u001b[0mRipple\u001b[0m\u001b[1;33m[\u001b[0m\u001b[1;34m'close'\u001b[0m\u001b[1;33m]\u001b[0m\u001b[1;33m)\u001b[0m\u001b[1;33m.\u001b[0m\u001b[0mplot\u001b[0m\u001b[1;33m(\u001b[0m\u001b[0mcolor\u001b[0m\u001b[1;33m=\u001b[0m\u001b[1;34m'blue'\u001b[0m\u001b[1;33m,\u001b[0m \u001b[0mlabel\u001b[0m\u001b[1;33m=\u001b[0m\u001b[1;34m'Ripple'\u001b[0m\u001b[1;33m)\u001b[0m\u001b[1;33m\u001b[0m\u001b[0m\n\u001b[0;32m      6\u001b[0m \u001b[1;33m(\u001b[0m\u001b[0mBitcoin_cash\u001b[0m\u001b[1;33m[\u001b[0m\u001b[1;34m'close'\u001b[0m\u001b[1;33m]\u001b[0m\u001b[1;33m)\u001b[0m\u001b[1;33m.\u001b[0m\u001b[0mplot\u001b[0m\u001b[1;33m(\u001b[0m\u001b[0mcolor\u001b[0m\u001b[1;33m=\u001b[0m\u001b[1;34m'yellow'\u001b[0m\u001b[1;33m,\u001b[0m \u001b[0mlabel\u001b[0m\u001b[1;33m=\u001b[0m\u001b[1;34m'Bitcoin Cash'\u001b[0m\u001b[1;33m)\u001b[0m\u001b[1;33m\u001b[0m\u001b[0m\n",
      "\u001b[1;32mC:\\Users\\sabitri\\Anaconda3\\lib\\site-packages\\pandas\\plotting\\_core.py\u001b[0m in \u001b[0;36m__call__\u001b[1;34m(self, kind, ax, figsize, use_index, title, grid, legend, style, logx, logy, loglog, xticks, yticks, xlim, ylim, rot, fontsize, colormap, table, yerr, xerr, label, secondary_y, **kwds)\u001b[0m\n\u001b[0;32m   2444\u001b[0m                            \u001b[0mcolormap\u001b[0m\u001b[1;33m=\u001b[0m\u001b[0mcolormap\u001b[0m\u001b[1;33m,\u001b[0m \u001b[0mtable\u001b[0m\u001b[1;33m=\u001b[0m\u001b[0mtable\u001b[0m\u001b[1;33m,\u001b[0m \u001b[0myerr\u001b[0m\u001b[1;33m=\u001b[0m\u001b[0myerr\u001b[0m\u001b[1;33m,\u001b[0m\u001b[1;33m\u001b[0m\u001b[0m\n\u001b[0;32m   2445\u001b[0m                            \u001b[0mxerr\u001b[0m\u001b[1;33m=\u001b[0m\u001b[0mxerr\u001b[0m\u001b[1;33m,\u001b[0m \u001b[0mlabel\u001b[0m\u001b[1;33m=\u001b[0m\u001b[0mlabel\u001b[0m\u001b[1;33m,\u001b[0m \u001b[0msecondary_y\u001b[0m\u001b[1;33m=\u001b[0m\u001b[0msecondary_y\u001b[0m\u001b[1;33m,\u001b[0m\u001b[1;33m\u001b[0m\u001b[0m\n\u001b[1;32m-> 2446\u001b[1;33m                            **kwds)\n\u001b[0m\u001b[0;32m   2447\u001b[0m     \u001b[0m__call__\u001b[0m\u001b[1;33m.\u001b[0m\u001b[0m__doc__\u001b[0m \u001b[1;33m=\u001b[0m \u001b[0mplot_series\u001b[0m\u001b[1;33m.\u001b[0m\u001b[0m__doc__\u001b[0m\u001b[1;33m\u001b[0m\u001b[0m\n\u001b[0;32m   2448\u001b[0m \u001b[1;33m\u001b[0m\u001b[0m\n",
      "\u001b[1;32mC:\\Users\\sabitri\\Anaconda3\\lib\\site-packages\\pandas\\plotting\\_core.py\u001b[0m in \u001b[0;36mplot_series\u001b[1;34m(data, kind, ax, figsize, use_index, title, grid, legend, style, logx, logy, loglog, xticks, yticks, xlim, ylim, rot, fontsize, colormap, table, yerr, xerr, label, secondary_y, **kwds)\u001b[0m\n\u001b[0;32m   1886\u001b[0m                  \u001b[0myerr\u001b[0m\u001b[1;33m=\u001b[0m\u001b[0myerr\u001b[0m\u001b[1;33m,\u001b[0m \u001b[0mxerr\u001b[0m\u001b[1;33m=\u001b[0m\u001b[0mxerr\u001b[0m\u001b[1;33m,\u001b[0m\u001b[1;33m\u001b[0m\u001b[0m\n\u001b[0;32m   1887\u001b[0m                  \u001b[0mlabel\u001b[0m\u001b[1;33m=\u001b[0m\u001b[0mlabel\u001b[0m\u001b[1;33m,\u001b[0m \u001b[0msecondary_y\u001b[0m\u001b[1;33m=\u001b[0m\u001b[0msecondary_y\u001b[0m\u001b[1;33m,\u001b[0m\u001b[1;33m\u001b[0m\u001b[0m\n\u001b[1;32m-> 1888\u001b[1;33m                  **kwds)\n\u001b[0m\u001b[0;32m   1889\u001b[0m \u001b[1;33m\u001b[0m\u001b[0m\n\u001b[0;32m   1890\u001b[0m \u001b[1;33m\u001b[0m\u001b[0m\n",
      "\u001b[1;32mC:\\Users\\sabitri\\Anaconda3\\lib\\site-packages\\pandas\\plotting\\_core.py\u001b[0m in \u001b[0;36m_plot\u001b[1;34m(data, x, y, subplots, ax, kind, **kwds)\u001b[0m\n\u001b[0;32m   1680\u001b[0m         \u001b[0mplot_obj\u001b[0m \u001b[1;33m=\u001b[0m \u001b[0mklass\u001b[0m\u001b[1;33m(\u001b[0m\u001b[0mdata\u001b[0m\u001b[1;33m,\u001b[0m \u001b[0msubplots\u001b[0m\u001b[1;33m=\u001b[0m\u001b[0msubplots\u001b[0m\u001b[1;33m,\u001b[0m \u001b[0max\u001b[0m\u001b[1;33m=\u001b[0m\u001b[0max\u001b[0m\u001b[1;33m,\u001b[0m \u001b[0mkind\u001b[0m\u001b[1;33m=\u001b[0m\u001b[0mkind\u001b[0m\u001b[1;33m,\u001b[0m \u001b[1;33m**\u001b[0m\u001b[0mkwds\u001b[0m\u001b[1;33m)\u001b[0m\u001b[1;33m\u001b[0m\u001b[0m\n\u001b[0;32m   1681\u001b[0m \u001b[1;33m\u001b[0m\u001b[0m\n\u001b[1;32m-> 1682\u001b[1;33m     \u001b[0mplot_obj\u001b[0m\u001b[1;33m.\u001b[0m\u001b[0mgenerate\u001b[0m\u001b[1;33m(\u001b[0m\u001b[1;33m)\u001b[0m\u001b[1;33m\u001b[0m\u001b[0m\n\u001b[0m\u001b[0;32m   1683\u001b[0m     \u001b[0mplot_obj\u001b[0m\u001b[1;33m.\u001b[0m\u001b[0mdraw\u001b[0m\u001b[1;33m(\u001b[0m\u001b[1;33m)\u001b[0m\u001b[1;33m\u001b[0m\u001b[0m\n\u001b[0;32m   1684\u001b[0m     \u001b[1;32mreturn\u001b[0m \u001b[0mplot_obj\u001b[0m\u001b[1;33m.\u001b[0m\u001b[0mresult\u001b[0m\u001b[1;33m\u001b[0m\u001b[0m\n",
      "\u001b[1;32mC:\\Users\\sabitri\\Anaconda3\\lib\\site-packages\\pandas\\plotting\\_core.py\u001b[0m in \u001b[0;36mgenerate\u001b[1;34m(self)\u001b[0m\n\u001b[0;32m    236\u001b[0m         \u001b[0mself\u001b[0m\u001b[1;33m.\u001b[0m\u001b[0m_compute_plot_data\u001b[0m\u001b[1;33m(\u001b[0m\u001b[1;33m)\u001b[0m\u001b[1;33m\u001b[0m\u001b[0m\n\u001b[0;32m    237\u001b[0m         \u001b[0mself\u001b[0m\u001b[1;33m.\u001b[0m\u001b[0m_setup_subplots\u001b[0m\u001b[1;33m(\u001b[0m\u001b[1;33m)\u001b[0m\u001b[1;33m\u001b[0m\u001b[0m\n\u001b[1;32m--> 238\u001b[1;33m         \u001b[0mself\u001b[0m\u001b[1;33m.\u001b[0m\u001b[0m_make_plot\u001b[0m\u001b[1;33m(\u001b[0m\u001b[1;33m)\u001b[0m\u001b[1;33m\u001b[0m\u001b[0m\n\u001b[0m\u001b[0;32m    239\u001b[0m         \u001b[0mself\u001b[0m\u001b[1;33m.\u001b[0m\u001b[0m_add_table\u001b[0m\u001b[1;33m(\u001b[0m\u001b[1;33m)\u001b[0m\u001b[1;33m\u001b[0m\u001b[0m\n\u001b[0;32m    240\u001b[0m         \u001b[0mself\u001b[0m\u001b[1;33m.\u001b[0m\u001b[0m_make_legend\u001b[0m\u001b[1;33m(\u001b[0m\u001b[1;33m)\u001b[0m\u001b[1;33m\u001b[0m\u001b[0m\n",
      "\u001b[1;32mC:\\Users\\sabitri\\Anaconda3\\lib\\site-packages\\pandas\\plotting\\_core.py\u001b[0m in \u001b[0;36m_make_plot\u001b[1;34m(self)\u001b[0m\n\u001b[0;32m    936\u001b[0m                              \u001b[0mstacking_id\u001b[0m\u001b[1;33m=\u001b[0m\u001b[0mstacking_id\u001b[0m\u001b[1;33m,\u001b[0m\u001b[1;33m\u001b[0m\u001b[0m\n\u001b[0;32m    937\u001b[0m                              \u001b[0mis_errorbar\u001b[0m\u001b[1;33m=\u001b[0m\u001b[0mis_errorbar\u001b[0m\u001b[1;33m,\u001b[0m\u001b[1;33m\u001b[0m\u001b[0m\n\u001b[1;32m--> 938\u001b[1;33m                              **kwds)\n\u001b[0m\u001b[0;32m    939\u001b[0m             \u001b[0mself\u001b[0m\u001b[1;33m.\u001b[0m\u001b[0m_add_legend_handle\u001b[0m\u001b[1;33m(\u001b[0m\u001b[0mnewlines\u001b[0m\u001b[1;33m[\u001b[0m\u001b[1;36m0\u001b[0m\u001b[1;33m]\u001b[0m\u001b[1;33m,\u001b[0m \u001b[0mlabel\u001b[0m\u001b[1;33m,\u001b[0m \u001b[0mindex\u001b[0m\u001b[1;33m=\u001b[0m\u001b[0mi\u001b[0m\u001b[1;33m)\u001b[0m\u001b[1;33m\u001b[0m\u001b[0m\n\u001b[0;32m    940\u001b[0m \u001b[1;33m\u001b[0m\u001b[0m\n",
      "\u001b[1;32mC:\\Users\\sabitri\\Anaconda3\\lib\\site-packages\\pandas\\plotting\\_core.py\u001b[0m in \u001b[0;36m_ts_plot\u001b[1;34m(cls, ax, x, data, style, **kwds)\u001b[0m\n\u001b[0;32m    976\u001b[0m         \u001b[0mlines\u001b[0m \u001b[1;33m=\u001b[0m \u001b[0mcls\u001b[0m\u001b[1;33m.\u001b[0m\u001b[0m_plot\u001b[0m\u001b[1;33m(\u001b[0m\u001b[0max\u001b[0m\u001b[1;33m,\u001b[0m \u001b[0mdata\u001b[0m\u001b[1;33m.\u001b[0m\u001b[0mindex\u001b[0m\u001b[1;33m,\u001b[0m \u001b[0mdata\u001b[0m\u001b[1;33m.\u001b[0m\u001b[0mvalues\u001b[0m\u001b[1;33m,\u001b[0m \u001b[0mstyle\u001b[0m\u001b[1;33m=\u001b[0m\u001b[0mstyle\u001b[0m\u001b[1;33m,\u001b[0m \u001b[1;33m**\u001b[0m\u001b[0mkwds\u001b[0m\u001b[1;33m)\u001b[0m\u001b[1;33m\u001b[0m\u001b[0m\n\u001b[0;32m    977\u001b[0m         \u001b[1;31m# set date formatter, locators and rescale limits\u001b[0m\u001b[1;33m\u001b[0m\u001b[1;33m\u001b[0m\u001b[0m\n\u001b[1;32m--> 978\u001b[1;33m         \u001b[0mformat_dateaxis\u001b[0m\u001b[1;33m(\u001b[0m\u001b[0max\u001b[0m\u001b[1;33m,\u001b[0m \u001b[0max\u001b[0m\u001b[1;33m.\u001b[0m\u001b[0mfreq\u001b[0m\u001b[1;33m,\u001b[0m \u001b[0mdata\u001b[0m\u001b[1;33m.\u001b[0m\u001b[0mindex\u001b[0m\u001b[1;33m)\u001b[0m\u001b[1;33m\u001b[0m\u001b[0m\n\u001b[0m\u001b[0;32m    979\u001b[0m         \u001b[1;32mreturn\u001b[0m \u001b[0mlines\u001b[0m\u001b[1;33m\u001b[0m\u001b[0m\n\u001b[0;32m    980\u001b[0m \u001b[1;33m\u001b[0m\u001b[0m\n",
      "\u001b[1;32mC:\\Users\\sabitri\\Anaconda3\\lib\\site-packages\\pandas\\plotting\\_timeseries.py\u001b[0m in \u001b[0;36mformat_dateaxis\u001b[1;34m(subplot, freq, index)\u001b[0m\n\u001b[0;32m    335\u001b[0m             TimeSeries_TimedeltaFormatter())\n\u001b[0;32m    336\u001b[0m     \u001b[1;32melse\u001b[0m\u001b[1;33m:\u001b[0m\u001b[1;33m\u001b[0m\u001b[0m\n\u001b[1;32m--> 337\u001b[1;33m         \u001b[1;32mraise\u001b[0m \u001b[0mTypeError\u001b[0m\u001b[1;33m(\u001b[0m\u001b[1;34m'index type not supported'\u001b[0m\u001b[1;33m)\u001b[0m\u001b[1;33m\u001b[0m\u001b[0m\n\u001b[0m\u001b[0;32m    338\u001b[0m \u001b[1;33m\u001b[0m\u001b[0m\n\u001b[0;32m    339\u001b[0m     \u001b[0mpylab\u001b[0m\u001b[1;33m.\u001b[0m\u001b[0mdraw_if_interactive\u001b[0m\u001b[1;33m(\u001b[0m\u001b[1;33m)\u001b[0m\u001b[1;33m\u001b[0m\u001b[0m\n",
      "\u001b[1;31mTypeError\u001b[0m: index type not supported"
     ]
    },
    {
     "data": {
      "image/png": "[encoded data removed]",
      "text/plain": [
       "<matplotlib.figure.Figure at 0x14366dd8f98>"
      ]
     },
     "metadata": {},
     "output_type": "display_data"
    }
   ],
   "source": [
    "# Let's see the trend for closing price\n",
    "plt.figure(figsize=(16,8))\n",
    "(Bitcoin['close']).plot(color='red', label='Bitcoin')\n",
    "(Ethereum['close']).plot(color='green', label='Ethereum')\n",
    "(Ripple['close']).plot(color='blue', label='Ripple')\n",
    "(Bitcoin_cash['close']).plot(color='yellow', label='Bitcoin Cash')\n",
    "(Cardano['close']).plot(color='pink', label='Cardano')\n",
    "(Litecoin['close']).plot(color='black', label='Litecoin')\n",
    "(NEM['close']).plot(color='purple', label='NEM')\n",
    "(IOTA['close']).plot(color='brown', label='IOTA')\n",
    "(Stellar['close']).plot(color='grey', label='Stellar')\n",
    "(Dash['close']).plot(color='orange', label='Dash')\n",
    "plt.legend()\n",
    "plt.title('Top10 Cryptocurrency closing price')\n",
    "plt.show()"
   ]
  },
  {
   "cell_type": "code",
   "execution_count": 25,
   "metadata": {},
   "outputs": [
    {
     "data": {
      "image/png": "[encoded data removed]",
      "text/plain": [
       "<matplotlib.figure.Figure at 0x143658d82b0>"
      ]
     },
     "metadata": {},
     "output_type": "display_data"
    }
   ],
   "source": [
    "# draw pic of MarketCap\n",
    "plt.figure(figsize=(20,10))\n",
    "(Bitcoin['market']/1000000).plot(color='red', label='Bitcoin')\n",
    "(Ethereum['market']/1000000).plot(color='green', label='Ethereum')\n",
    "(Ripple['market']/1000000).plot(color='blue', label='Ripple')\n",
    "(Bitcoin_cash['market']/1000000).plot(color='yellow', label='Bitcoin Cash')\n",
    "(Cardano['market']/1000000).plot(color='pink', label='Cardano')\n",
    "(Litecoin['market']/1000000).plot(color='black', label='Litecoin')\n",
    "(NEM['market']/1000000).plot(color='purple', label='NEM')\n",
    "(IOTA['market']/1000000).plot(color='brown', label='IOTA')\n",
    "(Stellar['market']/1000000).plot(color='grey', label='Stellar')\n",
    "(Dash['market']/1000000).plot(color='orange', label='Dash')\n",
    "plt.legend()\n",
    "plt.title('Top10 Cryptocurrency Market Cap (Million USD)')\n",
    "#Bitcoin.set_index(['date'],inplace=True)\n",
    "plt.show()"
   ]
  },
  {
   "cell_type": "code",
   "execution_count": null,
   "metadata": {
    "collapsed": true
   },
   "outputs": [],
   "source": []
  }
 ],
 "metadata": {
  "kernelspec": {
   "display_name": "Python 3",
   "language": "python",
   "name": "python3"
  },
  "language_info": {
   "codemirror_mode": {
    "name": "ipython",
    "version": 3
   },
   "file_extension": ".py",
   "mimetype": "text/x-python",
   "name": "python",
   "nbconvert_exporter": "python",
   "pygments_lexer": "ipython3",
   "version": "3.6.1"
  }
 },
 "nbformat": 4,
 "nbformat_minor": 2
}
